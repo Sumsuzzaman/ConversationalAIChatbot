{
 "cells": [
  {
   "cell_type": "code",
   "execution_count": null,
   "metadata": {},
   "outputs": [],
   "source": [
    "%%sh\n",
    "\n",
    "\n",
    "mkdir -p libs\n",
    "\n",
    "FILE_SYS_ID=fs-f6e807ce\n",
    "\n",
    "sudo mount -t nfs \\\n",
    "    -o nfsvers=4.1,rsize=1048576,wsize=1048576,hard,timeo=600,retrans=2 \\\n",
    "    $FILE_SYS_ID.efs.ap-southeast-2.amazonaws.com:/ \\\n",
    "    libs\n",
    "\n",
    "cd libs && sudo mkdir -p py-libs && sudo mkdir -p convai-model\n",
    "\n",
    "cd .. && sudo umount -l /home/ec2-user/SageMaker/libs\n",
    "\n",
    "sudo mount -t nfs \\\n",
    "    -o nfsvers=4.1,rsize=1048576,wsize=1048576,hard,timeo=600,retrans=2 \\\n",
    "    $FILE_SYS_ID.efs.ap-southeast-2.amazonaws.com:/ \\\n",
    "    libs"
   ]
  },
  {
   "cell_type": "code",
   "execution_count": null,
   "metadata": {},
   "outputs": [],
   "source": [
    "!sudo pip --no-cache-dir install torch -t libs/py-libs\n",
    "!sudo pip --no-cache-dir install torchvision -t libs/py-libs\n",
    "!sudo pip --no-cache-dir install simpletransformers -t libs/py-libs"
   ]
  },
  {
   "cell_type": "code",
   "execution_count": null,
   "metadata": {},
   "outputs": [],
   "source": [
    "!sudo wget https://s3.amazonaws.com/models.huggingface.co/transfer-learning-chatbot/gpt_personachat_cache.tar.gz\n",
    "!sudo tar -xvf gpt_personachat_cache.tar.gz -C libs/convai-model"
   ]
  },
  {
   "cell_type": "code",
   "execution_count": null,
   "metadata": {},
   "outputs": [],
   "source": [
    "!sudo chmod -R g+rw libs/convai-model"
   ]
  },
  {
   "cell_type": "code",
   "execution_count": null,
   "metadata": {},
   "outputs": [],
   "source": [
    "import sys\n",
    "sys.path.insert(1, '/home/ec2-user/SageMaker/libs/py-libs')\n",
    "import torch\n",
    "import torch.nn.functional as F\n",
    "from simpletransformers.conv_ai import ConvAIModel\n",
    "from simpletransformers.conv_ai.conv_ai_utils import get_dataset"
   ]
  },
  {
   "cell_type": "code",
   "execution_count": null,
   "metadata": {},
   "outputs": [],
   "source": [
    "# Create a ConvAIModel\n",
    "model = ConvAIModel(\"gpt\", \"/home/ec2-user/SageMaker/libs/convai-model\", use_cuda=False)"
   ]
  },
  {
   "cell_type": "code",
   "execution_count": null,
   "metadata": {},
   "outputs": [],
   "source": [
    "model.interact(    personality=[\n",
    "        \"i am very outgoing .\"\n",
    "        \"i like to go hunting .\",\n",
    "        \"i enjoy walking for excercise .\",\n",
    "        \"i like to shoot a bow .\"\n",
    "    ])"
   ]
  }
 ],
 "metadata": {
  "kernelspec": {
   "display_name": "conda_python3",
   "language": "python",
   "name": "conda_python3"
  },
  "language_info": {
   "codemirror_mode": {
    "name": "ipython",
    "version": 3
   },
   "file_extension": ".py",
   "mimetype": "text/x-python",
   "name": "python",
   "nbconvert_exporter": "python",
   "pygments_lexer": "ipython3",
   "version": "3.6.5"
  }
 },
 "nbformat": 4,
 "nbformat_minor": 4
}
